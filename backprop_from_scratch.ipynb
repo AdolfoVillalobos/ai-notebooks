{
 "cells": [
  {
   "cell_type": "markdown",
   "metadata": {},
   "source": [
    "# Backpropagation Algorithm From Scratch\n",
    "\n",
    "To do:\n",
    "    1. Load training/test data X/Y\n",
    "    2. Create a NN using Feed Forward Architechture\n",
    "    3. Calculate A loss Function\n",
    "    4. Implement the optimization of the Loss Function through Backpropagation (Derive the math)"
   ]
  },
  {
   "cell_type": "code",
   "execution_count": 8,
   "metadata": {},
   "outputs": [],
   "source": [
    "import numpy as np\n",
    "import matplotlib.pyplot as plt\n",
    "\n",
    "import sklearn.datasets"
   ]
  },
  {
   "cell_type": "code",
   "execution_count": 3,
   "metadata": {},
   "outputs": [],
   "source": [
    "X, y = sklearn.datasets.load_boston(return_X_y=True)"
   ]
  },
  {
   "cell_type": "code",
   "execution_count": 9,
   "metadata": {},
   "outputs": [
    {
     "data": {
      "image/png": "[encoded data removed]",
      "text/plain": [
       "<Figure size 432x288 with 1 Axes>"
      ]
     },
     "metadata": {
      "needs_background": "light"
     },
     "output_type": "display_data"
    }
   ],
   "source": [
    "plt.hist(y)\n",
    "plt.show()"
   ]
  },
  {
   "cell_type": "markdown",
   "metadata": {},
   "source": [
    "The Back-propagation algorithm\n",
    "\n",
    "A feedforward model considers the consecutive application of linear transformations, followed by non-linear activation functions:\n",
    "\n",
    "$$\n",
    "f_0 = x \\\\\n",
    "f_i = \\sigma_i(A_i f_i+b_{i-1})\n",
    "$$\n",
    "\n",
    "The chain rule says:\n",
    "\n",
    "$$\n",
    "\\dfrac{\\partial L}{\\partial \\theta_i} = \\dfrac{\\partial L}{\\partial f_K} \\dfrac{\\partial f_K}{\\partial f_{K-1}} \\cdots \\dfrac{\\partial f_{i+2}}{\\partial f_{i+1}} \\dfrac{\\partial f_{i+1}}{\\partial \\theta_i }\n",
    "$$\n",
    "\n",
    "\n",
    "We start by considering a simple case, in which the activation function is just the sigmoid function"
   ]
  },
  {
   "cell_type": "code",
   "execution_count": 75,
   "metadata": {},
   "outputs": [],
   "source": [
    "class NeuralNetwork():\n",
    "    def __init__(self, input_dim, hidden_layers, output_dim):\n",
    "        \n",
    "        # Shapes of input, output and weight matrices\n",
    "        self.i_d = input_dim\n",
    "        self.o_d = output_dim\n",
    "        self.hidden_layers = hidden_layers\n",
    "        \n",
    "        # Init weights\n",
    "        self.init_weights()\n",
    "        \n",
    "    \n",
    "    # Loss Function\n",
    "    def loss(self, y_true, y_pred):\n",
    "        return np.linalg.norm(y_true-y_pred)\n",
    "    \n",
    "    # Initialize random weights\n",
    "    def init_weights(self):\n",
    "        layers =  [self.i_d]+self.hidden_layers+[self.o_d]\n",
    "        self.weights = [np.random.rand(layers[i+1], layers[i]) for i in range(len(layers)-1)]\n",
    "        self.biases = [np.random.rand(layers[i+1]) for i in range(len(layers)-1)]\n",
    "    \n",
    "    @staticmethod\n",
    "    def sigmoid(self, x):\n",
    "        return np.exp(x)/(1+np.exp(x))\n",
    "    \n",
    "    @staticmethod\n",
    "    def sigmoid_derivative(self, x):\n",
    "        return self.sigmoid(x)*(1.0-self.sigmoid(x))\n",
    "\n",
    "    def forward_propagation(self, x):\n",
    "        z = np.copy(x)\n",
    "        for (w,b) in zip(self.weights, self.biases):\n",
    "            z = self.sigmoid(np.matmul(w, z)+b)\n",
    "        return z\n",
    "        \n",
    "    def backward_propagation(self, x, y):\n",
    "        return None\n",
    "    \n",
    "    def train(self):\n",
    "        pass\n",
    "    \n",
    "        \n",
    "        "
   ]
  },
  {
   "cell_type": "code",
   "execution_count": 76,
   "metadata": {},
   "outputs": [],
   "source": [
    "input_dim = X.shape[1]\n",
    "output_dim = 1\n",
    "layers = [16, 8, 4]"
   ]
  },
  {
   "cell_type": "code",
   "execution_count": 77,
   "metadata": {},
   "outputs": [],
   "source": [
    "model = NeuralNetwork(input_dim, layers, output_dim)\n",
    "z = model.forward_propagation(X[1])"
   ]
  },
  {
   "cell_type": "code",
   "execution_count": 78,
   "metadata": {},
   "outputs": [
    {
     "data": {
      "text/plain": [
       "array([14854.18677312])"
      ]
     },
     "execution_count": 78,
     "metadata": {},
     "output_type": "execute_result"
    }
   ],
   "source": [
    "z"
   ]
  },
  {
   "cell_type": "code",
   "execution_count": null,
   "metadata": {},
   "outputs": [],
   "source": []
  }
 ],
 "metadata": {
  "kernelspec": {
   "display_name": "Python 3",
   "language": "python",
   "name": "python3"
  },
  "language_info": {
   "codemirror_mode": {
    "name": "ipython",
    "version": 3
   },
   "file_extension": ".py",
   "mimetype": "text/x-python",
   "name": "python",
   "nbconvert_exporter": "python",
   "pygments_lexer": "ipython3",
   "version": "3.8.3"
  }
 },
 "nbformat": 4,
 "nbformat_minor": 4
}
