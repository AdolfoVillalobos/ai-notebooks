{
 "cells": [
  {
   "cell_type": "code",
   "execution_count": 2,
   "metadata": {},
   "outputs": [],
   "source": [
    "import numpy as np\n",
    "import matplotlib.pyplot as plt\n",
    "\n",
    "import sklearn.datasets"
   ]
  },
  {
   "cell_type": "markdown",
   "metadata": {},
   "source": [
    "# Backpropagation Algorithm From Scratch\n",
    "\n",
    "The idea is to implement the **Back Propagation** algorithm to train Feed Forward Neural Networks. \n",
    "\n",
    "We will implement the algorithm from scratch in Python, and we will only use built-in libraries and numpy, avoiding for the moment the usage of higher-level frameworks (Pytorch or Tensorflow).\n",
    "\n",
    "This excersice will help me remeber the foundations of Deep Learning.\n"
   ]
  },
  {
   "cell_type": "markdown",
   "metadata": {},
   "source": [
    "## Background\n",
    "\n",
    "### Loss Function\n",
    "\n",
    "The **Loss Function** for the moment is the $l_2$ norm of the difference between the predicted and true labels ($\\hat y$ and $y$, respecitvely).\n",
    "\n",
    "$$\n",
    "L(y, \\hat y) = \\|y-\\hat y \\|^2\n",
    "$$\n",
    "\n",
    "### Feed Forward Model\n",
    "\n",
    "The **Feed Forward** model considers the consecutive application of linear transformations and activation functions. Given an input $x$, the model's output is given by:\n",
    "\n",
    "$$\n",
    "g(x) = f_K(f_{K-1}(\\cdots f_2(f_1(x))))\n",
    "$$\n",
    "\n",
    "where:\n",
    "$$\n",
    "\\\\\n",
    "f_0 = x,  \\\\\n",
    "f_i = \\sigma(A_{i-1}f_{i-1}+b_{i-1})\n",
    "$$\n",
    "\n",
    "\n",
    "For simplicity, we consider the activation functions to be the sigmoid function:\n",
    "\n",
    "$$\n",
    "\\sigma (x) = \\dfrac{1}{1+e^{-x}},  \\\\\n",
    "\\sigma ' (x) = \\sigma (x) (1-\\sigma (x))\n",
    "$$\n",
    "\n",
    "\n",
    "\n",
    "### Learning using Gradient Descent\n",
    "\n",
    "\n",
    "Notice that the model $g(x)$ depends on the parameters $\\{A_0, b_0, \\cdots, A_{K-1}, b_{K-1}\\}$ that represent the weights ($A_i$) and the biases ($b_i$) of the model. Such parameters are optimized using a Gradient Descent algorithm, which updates the values of the parameters iteratively by following the rule:\n",
    "\n",
    "\n",
    "$$\n",
    "A_i \\leftarrow A_i - \\alpha \\dfrac{\\partial L}{\\partial A_i} \\\\\n",
    "b_i \\leftarrow b_i - \\alpha \\dfrac{\\partial L}{\\partial b_i}\n",
    "$$\n",
    "\n",
    "where $\\alpha$ is the learning rate.\n",
    "\n",
    "\n",
    "Hence, the question is: How do we estimate $\\dfrac{\\partial L}{\\partial A_i}$? The answer is the Backpropagation algorithm, which in turn is based on a reverse application of the Chain Rule for diferentiation.\n",
    "\n",
    "### Chain Rule\n",
    "\n",
    "\n",
    "Consider the model for $g(x)$ by using the following auxiliary variables:\n",
    "\n",
    "$$\n",
    "h_i = A_{i-1}f_{i-1}+b_{i-1} \\\\\n",
    "f_i = \\sigma (h_i)\n",
    "$$\n",
    "\n",
    "where the boundary conditions is $f_0 = x$.\n",
    "\n",
    "The Chain Rule states:\n",
    "\n",
    "$$\n",
    "\\dfrac{\\partial L}{\\partial A_{K-1}} = \\dfrac{\\partial L}{\\partial f_K} \\dfrac{\\partial f_K}{\\partial h_K} \\dfrac{\\partial h_K}{\\partial A_{K-1}} \\\\\n",
    "\\dfrac{\\partial L}{\\partial A_{K-2}} = \\dfrac{\\partial L}{\\partial f_K} (\\dfrac{\\partial f_K}{\\partial h_K} \\dfrac{\\partial h_K}{\\partial f_{K-1}} ) (\\dfrac{\\partial f_{K-1}}{\\partial h_{K-1}} \\dfrac{\\partial h_{K-1}}{\\partial A_{K-2}} )\\\\\n",
    "\\dfrac{\\partial L}{\\partial A_{K-3}} = \\dfrac{\\partial L}{\\partial f_K} (\\dfrac{\\partial f_K}{\\partial h_K} \\dfrac{\\partial h_K}{\\partial f_{K-1}} ) (\\dfrac{\\partial f_{K-1}}{\\partial h_{K-1}} \\dfrac{\\partial h_{K-1}}{\\partial f_{K-2}} ) (\\dfrac{\\partial f_{K-2}}{\\partial h_{K-2}} \\dfrac{\\partial h_{K-2}}{\\partial A_{K-3}} )\\\\\n",
    "\\dfrac{\\partial L}{\\partial A_{i}} = \\dfrac{\\partial L}{\\partial f_K} (\\dfrac{\\partial f_K}{\\partial h_K} \\dfrac{\\partial h_K}{\\partial f_{K-1}} ) (\\dfrac{\\partial f_{K-1}}{\\partial h_{K-1}} \\dfrac{\\partial h_{K-1}}{\\partial f_{K-2}} )\\cdots(\\dfrac{\\partial f_{i+2}}{\\partial h_{i+1}} \\dfrac{\\partial h_{i+1}}{\\partial f_{i+1} }) (\\dfrac{\\partial f_{i+1}}{\\partial h_{i+1}} \\dfrac{\\partial h_{i+1}}{\\partial A_{i} })\\\\\n",
    "$$\n",
    "\n",
    "\n",
    "Some of the terms are:\n",
    "\n",
    "$$\n",
    "\\dfrac{\\partial L}{\\partial f_K}  = \\dfrac{\\partial }{\\partial f_K} \\| y-f_K\\|^2 = -2 (y-f_k)I \\\\\n",
    "\\dfrac{\\partial f_i}{\\partial h_i} = \\sigma (h_i) (1-\\sigma (h_i)) \\\\\n",
    "\\dfrac{\\partial h_i}{\\partial f_{i-1}} = A_{i-1} \\\\\n",
    "\\dfrac{\\partial h_i}{\\partial A_{i-1}} = f_i \\otimes I\n",
    "$$\n"
   ]
  },
  {
   "cell_type": "markdown",
   "metadata": {},
   "source": [
    "## Toy example\n",
    "\n",
    "Consider $K=2$.\n",
    "\n",
    "The computational graph is:\n",
    "\n",
    "$$\n",
    "f_0 = x \\\\\n",
    "\\rightarrow h_1 = A_0x+b_0  \\\\\n",
    "\\rightarrow f_1 = \\sigma (h_1) \\\\\n",
    "\\rightarrow h_2 = A_1 f_2+b_1 \\\\\n",
    "\\rightarrow f_2 = \\sigma (h_2)\n",
    "$$\n",
    "\n",
    "Then, the gradients are:\n",
    "\n",
    "$$\n",
    "\\dfrac{\\partial L}{\\partial A_1} = \\dfrac{\\partial L}{\\partial f_2} \\dfrac{\\partial f_2}{\\partial h_2} \\dfrac{\\partial h_2}{\\partial A_1} = -2(y-f_2)I \\cdot \\sigma (h_2) (1-\\sigma (h_2)) \\cdot f_2 \\otimes I \\\\\n",
    "\\dfrac{\\partial L}{\\partial A_0} = \\dfrac{\\partial L}{\\partial f_2} \\dfrac{\\partial f_2}{\\partial h_2}\\dfrac{\\partial h_2}{\\partial f_1} \\dfrac{\\partial f_1}{\\partial h_1} \\dfrac{\\partial h_1}{\\partial A_0} = -2(y-f_2)I \\cdot \\sigma (h_2) (1-\\sigma (h_2)) \\cdot A_1 \\cdot \\sigma (h_1) (1-\\sigma (h_1)) \\cdot f_1 \\otimes I\n",
    "$$\n"
   ]
  },
  {
   "cell_type": "code",
   "execution_count": null,
   "metadata": {},
   "outputs": [],
   "source": []
  },
  {
   "cell_type": "markdown",
   "metadata": {},
   "source": [
    "## To DO -  First Implementation (Toy Example):\n",
    "\n",
    "We will start with a simple regression model, using a feed-forward NN with only 2 hidden layers. \n",
    "\n",
    "The objective is to derive the backprop equations by hand, and implement them transparently. Then. we will implement a generalization of the algorithm.\n",
    "\n"
   ]
  },
  {
   "cell_type": "markdown",
   "metadata": {},
   "source": [
    "    1. Load training/test data X/Y\n",
    "    2. Create a NN using Feed Forward Architechture\n",
    "    3. Calculate A loss Function\n",
    "    4. Implement the optimization of the Loss Function through Backpropagation (Derive the math)"
   ]
  },
  {
   "cell_type": "code",
   "execution_count": 3,
   "metadata": {},
   "outputs": [],
   "source": [
    "X, y = sklearn.datasets.load_boston(return_X_y=True)"
   ]
  },
  {
   "cell_type": "code",
   "execution_count": 4,
   "metadata": {},
   "outputs": [
    {
     "data": {
      "image/png": "[encoded data removed]",
      "text/plain": [
       "<Figure size 432x288 with 1 Axes>"
      ]
     },
     "metadata": {
      "needs_background": "light"
     },
     "output_type": "display_data"
    }
   ],
   "source": [
    "plt.hist(y)\n",
    "plt.show()"
   ]
  },
  {
   "cell_type": "code",
   "execution_count": 17,
   "metadata": {},
   "outputs": [],
   "source": [
    "class NeuralNetwork():\n",
    "    def __init__(self, input_dim, hidden_layers, output_dim):\n",
    "        \n",
    "        # Shapes of input, output and weight matrices\n",
    "        self.i_d = input_dim\n",
    "        self.o_d = output_dim\n",
    "        self.hidden_layers = hidden_layers\n",
    "        \n",
    "        # Init weights\n",
    "        self.init_weights()\n",
    "        \n",
    "    \n",
    "    # Loss Function\n",
    "    def loss(self, y_true, y_pred):\n",
    "        return np.linalg.norm(y_true-y_pred)\n",
    "    \n",
    "    # Initialize random weights\n",
    "    def init_weights(self):\n",
    "        layers =  [self.i_d]+self.hidden_layers+[self.o_d]\n",
    "        self.weights = [np.random.rand(layers[i+1], layers[i]) for i in range(len(layers)-1)]\n",
    "        self.biases = [np.random.rand(layers[i+1]) for i in range(len(layers)-1)]\n",
    "    \n",
    "    def sigmoid(self, x):\n",
    "        return np.exp(x)/(1+np.exp(x))\n",
    "    \n",
    "    @staticmethod\n",
    "    def sigmoid_derivative(self, x):\n",
    "        return self.sigmoid(x)*(1.0-self.sigmoid(x))\n",
    "\n",
    "    def forward_propagation(self, x):\n",
    "        z = np.copy(x)\n",
    "        for (w,b) in zip(self.weights, self.biases):\n",
    "            h = np.matmul(w, z)+b\n",
    "            print(h)\n",
    "            z = self.sigmoid(h)\n",
    "        return z\n",
    "        \n",
    "    def backward_propagation(self, x, y):\n",
    "        return None\n",
    "    \n",
    "    def train(self):\n",
    "        pass\n",
    "    \n",
    "        \n",
    "        "
   ]
  },
  {
   "cell_type": "code",
   "execution_count": 18,
   "metadata": {},
   "outputs": [],
   "source": [
    "input_dim = X.shape[1]\n",
    "output_dim = 1\n",
    "layers = [16, 8, 4]"
   ]
  },
  {
   "cell_type": "code",
   "execution_count": 19,
   "metadata": {},
   "outputs": [
    {
     "name": "stdout",
     "output_type": "stream",
     "text": [
      "[195.30904155 308.60588814 424.82504162 221.90710708 314.64799731\n",
      " 473.4865447  436.90112073 434.20011785 326.17703638 549.8328171\n",
      " 539.0789653  327.29832239 379.12563715 165.09029629 458.23255385\n",
      " 438.00229204]\n",
      "[ 9.22073266 10.04812776  8.32545072 11.66573707  9.74218925  8.24978706\n",
      "  7.93529688  5.62032806]\n",
      "[6.32492248 6.06050001 5.06877668 3.49547883]\n",
      "[2.35285036]\n"
     ]
    }
   ],
   "source": [
    "model = NeuralNetwork(input_dim, layers, output_dim)\n",
    "z = model.forward_propagation(X[1])"
   ]
  },
  {
   "cell_type": "code",
   "execution_count": 78,
   "metadata": {},
   "outputs": [
    {
     "data": {
      "text/plain": [
       "array([14854.18677312])"
      ]
     },
     "execution_count": 78,
     "metadata": {},
     "output_type": "execute_result"
    }
   ],
   "source": [
    "z"
   ]
  },
  {
   "cell_type": "code",
   "execution_count": null,
   "metadata": {},
   "outputs": [],
   "source": []
  }
 ],
 "metadata": {
  "kernelspec": {
   "display_name": "Python 3",
   "language": "python",
   "name": "python3"
  },
  "language_info": {
   "codemirror_mode": {
    "name": "ipython",
    "version": 3
   },
   "file_extension": ".py",
   "mimetype": "text/x-python",
   "name": "python",
   "nbconvert_exporter": "python",
   "pygments_lexer": "ipython3",
   "version": "3.8.3"
  }
 },
 "nbformat": 4,
 "nbformat_minor": 4
}
