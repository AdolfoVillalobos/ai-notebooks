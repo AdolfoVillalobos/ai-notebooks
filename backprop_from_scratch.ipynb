{
 "cells": [
  {
   "cell_type": "code",
   "execution_count": 60,
   "metadata": {},
   "outputs": [],
   "source": [
    "import numpy as np\n",
    "import matplotlib.pyplot as plt\n",
    "\n",
    "import sklearn.datasets\n",
    "import copy"
   ]
  },
  {
   "cell_type": "markdown",
   "metadata": {},
   "source": [
    "# Backpropagation Algorithm From Scratch\n",
    "\n",
    "The idea is to implement the **Back Propagation** algorithm to train Feed Forward Neural Networks. \n",
    "\n",
    "We will implement the algorithm from scratch in Python, and we will only use built-in libraries and numpy, avoiding for the moment the usage of higher-level frameworks (Pytorch or Tensorflow).\n",
    "\n",
    "This excersice will help me remeber the foundations of Deep Learning.\n"
   ]
  },
  {
   "cell_type": "markdown",
   "metadata": {},
   "source": [
    "## Background\n",
    "\n",
    "### Loss Function\n",
    "\n",
    "The **Loss Function** for the moment is the $l_2$ norm of the difference between the predicted and true labels ($\\hat y$ and $y$, respecitvely).\n",
    "\n",
    "$$\n",
    "L(y, \\hat y) = \\dfrac{1}{2}\\|y-\\hat y \\|^2\n",
    "$$\n"
   ]
  },
  {
   "cell_type": "code",
   "execution_count": 35,
   "metadata": {},
   "outputs": [],
   "source": [
    "def loss(y_true, y_pred):\n",
    "    N_points = y_true.shape[0]\n",
    "    return (1.0/(2.0*N_points))*np.linalg.norm(y_true-y_pred)"
   ]
  },
  {
   "cell_type": "markdown",
   "metadata": {},
   "source": [
    "#### Feed Forward Model\n",
    "\n",
    "The **Feed Forward** model considers the consecutive application of linear transformations and activation functions. Given an input $x$, the model's output is given by:\n",
    "\n",
    "$$\n",
    "g(x) = f_K(f_{K-1}(\\cdots f_2(f_1(x))))\n",
    "$$\n",
    "\n",
    "where:\n",
    "$$\n",
    "\\\\\n",
    "f_0 = x,  \\\\\n",
    "f_i = \\sigma(A_{i-1}f_{i-1}+b_{i-1})\n",
    "$$\n",
    "\n",
    "\n",
    "For simplicity, we consider the activation functions to be the sigmoid function:\n",
    "\n",
    "$$\n",
    "\\sigma (x) = \\dfrac{1}{1+e^{-x}},  \\\\\n",
    "\\sigma ' (x) = \\sigma (x) (1-\\sigma (x))\n",
    "$$\n"
   ]
  },
  {
   "cell_type": "code",
   "execution_count": 36,
   "metadata": {},
   "outputs": [],
   "source": [
    "def sigmoid(x):\n",
    "    return 1.0/(1.0+np.exp(-x))\n",
    "\n",
    "def sigmoid_derivative(x):\n",
    "    return sigmoid(x)*(1.0-sigmoid(x))"
   ]
  },
  {
   "cell_type": "markdown",
   "metadata": {},
   "source": [
    "\n",
    "\n",
    "\n",
    "\n",
    "### Learning using Gradient Descent\n",
    "\n",
    "\n",
    "Notice that the model $g(x)$ depends on the parameters $\\{A_0, b_0, \\cdots, A_{K-1}, b_{K-1}\\}$ that represent the weights ($A_i$) and the biases ($b_i$) of the model. Such parameters are optimized using a Gradient Descent algorithm, which updates the values of the parameters iteratively by following the rule:\n",
    "\n",
    "\n",
    "$$\n",
    "A_i \\leftarrow A_i - \\alpha \\dfrac{\\partial L}{\\partial A_i} \\\\\n",
    "b_i \\leftarrow b_i - \\alpha \\dfrac{\\partial L}{\\partial b_i}\n",
    "$$\n",
    "\n",
    "where $\\alpha$ is the learning rate.\n",
    "\n",
    "\n",
    "Hence, the question is: How do we estimate $\\dfrac{\\partial L}{\\partial A_i}$? The answer is the Backpropagation algorithm, which in turn is based on a reverse application of the Chain Rule for diferentiation.\n",
    "\n",
    "### Chain Rule\n",
    "\n",
    "\n",
    "Consider the model for $g(x)$ by using the following auxiliary variables:\n",
    "\n",
    "$$\n",
    "h_i = A_{i-1}f_{i-1}+b_{i-1} \\\\\n",
    "f_i = \\sigma (h_i)\n",
    "$$\n",
    "\n",
    "where the boundary conditions is $f_0 = x$.\n",
    "\n",
    "The Chain Rule states:\n",
    "\n",
    "$$\n",
    "\\dfrac{\\partial L}{\\partial A_{K-1}} = \\dfrac{\\partial L}{\\partial f_K} \\dfrac{\\partial f_K}{\\partial h_K} \\dfrac{\\partial h_K}{\\partial A_{K-1}} \\\\\n",
    "\\dfrac{\\partial L}{\\partial A_{K-2}} = \\dfrac{\\partial L}{\\partial f_K} (\\dfrac{\\partial f_K}{\\partial h_K} \\dfrac{\\partial h_K}{\\partial f_{K-1}} ) (\\dfrac{\\partial f_{K-1}}{\\partial h_{K-1}} \\dfrac{\\partial h_{K-1}}{\\partial A_{K-2}} )\\\\\n",
    "\\dfrac{\\partial L}{\\partial A_{K-3}} = \\dfrac{\\partial L}{\\partial f_K} (\\dfrac{\\partial f_K}{\\partial h_K} \\dfrac{\\partial h_K}{\\partial f_{K-1}} ) (\\dfrac{\\partial f_{K-1}}{\\partial h_{K-1}} \\dfrac{\\partial h_{K-1}}{\\partial f_{K-2}} ) (\\dfrac{\\partial f_{K-2}}{\\partial h_{K-2}} \\dfrac{\\partial h_{K-2}}{\\partial A_{K-3}} )\\\\\n",
    "\\dfrac{\\partial L}{\\partial A_{i}} = \\dfrac{\\partial L}{\\partial f_K} (\\dfrac{\\partial f_K}{\\partial h_K} \\dfrac{\\partial h_K}{\\partial f_{K-1}} ) (\\dfrac{\\partial f_{K-1}}{\\partial h_{K-1}} \\dfrac{\\partial h_{K-1}}{\\partial f_{K-2}} )\\cdots(\\dfrac{\\partial f_{i+2}}{\\partial h_{i+1}} \\dfrac{\\partial h_{i+1}}{\\partial f_{i+1} }) (\\dfrac{\\partial f_{i+1}}{\\partial h_{i+1}} \\dfrac{\\partial h_{i+1}}{\\partial A_{i} })\\\\\n",
    "$$\n",
    "\n",
    "\n",
    "Some of the terms are:\n",
    "\n",
    "$$\n",
    "\\dfrac{\\partial L}{\\partial f_K}  = \\dfrac{\\partial }{\\partial f_K} \\| y-f_K\\|^2 = -2 (y-f_k)I \\\\\n",
    "\\dfrac{\\partial f_i}{\\partial h_i} = \\sigma (h_i) (1-\\sigma (h_i)) \\\\\n",
    "\\dfrac{\\partial h_i}{\\partial f_{i-1}} = A_{i-1} \\\\\n",
    "\\dfrac{\\partial h_i}{\\partial A_{i-1}} = f_i \\otimes I\n",
    "$$\n"
   ]
  },
  {
   "cell_type": "markdown",
   "metadata": {},
   "source": [
    "## Toy Model - 2 hidden layers\n",
    "\n",
    "In a 2 hidden layer model, the computational graph will be as follows:\n",
    "\n",
    "$$\n",
    "\\begin{array}{rcl}\n",
    " x & \\rightarrow & z_1 =w_1x+b_1 \\\\\n",
    "     & \\rightarrow & h_1 = \\sigma (z_1) \\\\\n",
    "     & \\rightarrow & z_2 = w_2 h_1+ b_2 \\\\\n",
    "     & \\rightarrow & h_2 = \\sigma (z_2)\n",
    "\\end{array}\n",
    "$$\n",
    "\n",
    "\n"
   ]
  },
  {
   "cell_type": "code",
   "execution_count": 48,
   "metadata": {},
   "outputs": [],
   "source": [
    "X, y = sklearn.datasets.load_boston(return_X_y=True)\n",
    "\n",
    "input_dim = X.shape[1]\n",
    "hidden_dim = 10"
   ]
  },
  {
   "cell_type": "code",
   "execution_count": 49,
   "metadata": {},
   "outputs": [],
   "source": [
    "weights = {\n",
    "    'W1' : np.random.rand(hidden_dim, input_dim),\n",
    "    'W2' : np.random.rand(hidden_dim),\n",
    "    'b1' : np.random.rand(hidden_dim),\n",
    "    'b2' : np.random.rand()\n",
    "}"
   ]
  },
  {
   "cell_type": "code",
   "execution_count": 50,
   "metadata": {},
   "outputs": [],
   "source": [
    "def forward_prop(X, weights):\n",
    "    z1 = np.dot(X, weights['W1'].T)+weights['b1']\n",
    "    h1 = sigmoid(z1)\n",
    "    z2 = np.dot(h1, weights['W2'].T)+weights['b2']\n",
    "    h2 = sigmoid(z2)\n",
    "    return z1, h1, z2, h2"
   ]
  },
  {
   "cell_type": "code",
   "execution_count": 51,
   "metadata": {},
   "outputs": [],
   "source": [
    "z1, h1, z2, h2 = forward_prop(X, weights)"
   ]
  },
  {
   "cell_type": "markdown",
   "metadata": {},
   "source": [
    "### Chain rule\n",
    "\n",
    "For the $w_2$ parameter, the chain rule is:\n",
    "\n",
    "$$\n",
    "\\begin{array}{rcl}\n",
    "\\dfrac{\\partial L}{\\partial w_2} & = & \\dfrac{\\partial L}{ \\partial h_2} \\dfrac{\\partial h_2}{\\partial w_2}  \\\\\n",
    "                                & = &  \\dfrac{\\partial L}{ \\partial h_2} \\dfrac{\\partial h_2}{\\partial z_2} \\dfrac{\\partial z_2}{\\partial w_2}\n",
    "\\end{array}\n",
    "$$\n",
    "\n",
    "For the $w_1$:\n",
    "$$\n",
    "\\begin{array}{rcl}\n",
    "\\dfrac{\\partial L}{\\partial w_1} & = & \\dfrac{\\partial L}{ \\partial h_2} \\dfrac{\\partial h_2}{\\partial w_1}  \\\\\n",
    "                                & = &  \\dfrac{\\partial L}{ \\partial h_2} \\dfrac{\\partial h_2}{\\partial z_2} \\dfrac{\\partial z_2}{\\partial w_1}\\\\ \n",
    "                                & = &  \\dfrac{\\partial L}{ \\partial h_2} \\dfrac{\\partial h_2}{\\partial z_2} \\dfrac{\\partial z_2}{\\partial h_1} \\dfrac{\\partial h_1}{\\partial w_1}\\\\ \n",
    "                                & = &  \\dfrac{\\partial L}{ \\partial h_2} \\dfrac{\\partial h_2}{\\partial z_2} \\dfrac{\\partial z_2}{\\partial h_1} \\dfrac{\\partial h_1}{\\partial z_1} \\dfrac{\\partial z_1}{\\partial w_1}\\\\ \n",
    "\\end{array}\n",
    "$$\n",
    "\n",
    "\n",
    "Notice that the calculations of $\\dfrac{\\partial L}{\\partial w_2}$ and $\\dfrac{\\partial L}{\\partial w_1}$ reuse some terms, and so we can reduce computation.\n",
    "The same is true for the bias parameters $b_2$ and $b_1$:\n",
    "\n",
    "$$\n",
    "\\begin{array}{rcl}\n",
    "\\dfrac{\\partial L}{\\partial b_2} & = & \\dfrac{\\partial L}{ \\partial h_2} \\dfrac{\\partial h_2}{\\partial b_2}  \\\\\n",
    "                                & = &  \\dfrac{\\partial L}{ \\partial h_2} \\dfrac{\\partial h_2}{\\partial z_2} \\dfrac{\\partial z_2}{\\partial b_2}\n",
    "\\end{array}\n",
    "$$\n",
    "$$\n",
    "\\begin{array}{rcl}\n",
    "\\dfrac{\\partial L}{\\partial b_1} & = & \\dfrac{\\partial L}{ \\partial h_2} \\dfrac{\\partial h_2}{\\partial b_1}  \\\\\n",
    "                                & = &  \\dfrac{\\partial L}{ \\partial h_2} \\dfrac{\\partial h_2}{\\partial z_2} \\dfrac{\\partial z_2}{\\partial b_1}\\\\ \n",
    "                                & = &  \\dfrac{\\partial L}{ \\partial h_2} \\dfrac{\\partial h_2}{\\partial z_2} \\dfrac{\\partial z_2}{\\partial h_1} \\dfrac{\\partial h_1}{\\partial b_1}\\\\ \n",
    "                                & = &  \\dfrac{\\partial L}{ \\partial h_2} \\dfrac{\\partial h_2}{\\partial z_2} \\dfrac{\\partial z_2}{\\partial h_1} \\dfrac{\\partial h_1}{\\partial z_1} \\dfrac{\\partial z_1}{\\partial b_1}\\\\ \n",
    "\\end{array}\n",
    "$$\n"
   ]
  },
  {
   "cell_type": "code",
   "execution_count": 70,
   "metadata": {},
   "outputs": [],
   "source": [
    "def backward_prop(X, y, weights):\n",
    "    N_points = X.shape[0]\n",
    "    z1, h1, z2, h2 = forward_prop(X, weights)\n",
    "    \n",
    "    L = loss(y_true=y, y_pred=h2)\n",
    "    \n",
    "    # Back Propagation\n",
    "    \n",
    "    dLdY = (-2/N_points)*(y-h2).T\n",
    "    dLdZ2 = np.multiply(dLdY, sigmoid_derivative(z2))\n",
    "    dLdW2 = np.dot(h1.T, dLdZ2)\n",
    "    dLdB2 = np.dot(dLdZ2, np.ones(N_points))\n",
    "    \n",
    "    dLdH = np.dot(dLdZ2.reshape(N_points, 1), weights['W2'].reshape(1, -1))\n",
    "    dLdZ1 = np.multiply(dLdH, np.multiply(sigmoid(z1), (1.0-sigmoid(z1))))\n",
    "    dLdW1 = np.dot(dLdZ1.T, X)\n",
    "    dLdB1 = np.dot(dLdZ1.T, np.ones(N_points))\n",
    "    \n",
    "    gradients = {\n",
    "        'W1' : dLdW1,\n",
    "        'b1' : dLdB1,\n",
    "        'W2' : dLdW2,\n",
    "        'b2' : dLdB2\n",
    "    }\n",
    "    \n",
    "    return gradients, L\n",
    "    "
   ]
  },
  {
   "cell_type": "code",
   "execution_count": 71,
   "metadata": {},
   "outputs": [
    {
     "data": {
      "text/plain": [
       "({'W1': array([[0., 0., 0., 0., 0., 0., 0., 0., 0., 0., 0., 0., 0.],\n",
       "         [0., 0., 0., 0., 0., 0., 0., 0., 0., 0., 0., 0., 0.],\n",
       "         [0., 0., 0., 0., 0., 0., 0., 0., 0., 0., 0., 0., 0.],\n",
       "         [0., 0., 0., 0., 0., 0., 0., 0., 0., 0., 0., 0., 0.],\n",
       "         [0., 0., 0., 0., 0., 0., 0., 0., 0., 0., 0., 0., 0.],\n",
       "         [0., 0., 0., 0., 0., 0., 0., 0., 0., 0., 0., 0., 0.],\n",
       "         [0., 0., 0., 0., 0., 0., 0., 0., 0., 0., 0., 0., 0.],\n",
       "         [0., 0., 0., 0., 0., 0., 0., 0., 0., 0., 0., 0., 0.],\n",
       "         [0., 0., 0., 0., 0., 0., 0., 0., 0., 0., 0., 0., 0.],\n",
       "         [0., 0., 0., 0., 0., 0., 0., 0., 0., 0., 0., 0., 0.]]),\n",
       "  'b1': array([0., 0., 0., 0., 0., 0., 0., 0., 0., 0.]),\n",
       "  'W2': array([-0.000445, -0.000445, -0.000445, -0.000445, -0.000445, -0.000445,\n",
       "         -0.000445, -0.000445, -0.000445, -0.000445]),\n",
       "  'b2': -0.0004450001715725762},\n",
       " 0.520376189058052)"
      ]
     },
     "execution_count": 71,
     "metadata": {},
     "output_type": "execute_result"
    }
   ],
   "source": [
    "backward_prop(X, y, weights)"
   ]
  },
  {
   "cell_type": "code",
   "execution_count": 82,
   "metadata": {},
   "outputs": [],
   "source": [
    "def train(num_epochs):\n",
    "    \n",
    "    epsilon = 0.001\n",
    "    initial_weights = copy.deepcopy(weights)\n",
    "    losses = []\n",
    "    for epoch in range(num_epochs):\n",
    "        if epoch % 5000 ==0:\n",
    "            print(f'Epoch {epoch+1}')\n",
    "        gradients, L = backward_prop(X, y, initial_weights)\n",
    "        for weight_name in weights:\n",
    "            initial_weights[weight_name] -= epsilon * gradients[weight_name]\n",
    "        \n",
    "        losses.append(L)\n",
    "    plt.scatter(range(num_epochs), losses)\n",
    "    plt.title('Training Loss')\n",
    "    plt.xlabel('Epoch')\n",
    "    plt.ylabel('Loss')\n",
    "    plt.show()\n",
    "    \n",
    "    return losses\n",
    "    "
   ]
  },
  {
   "cell_type": "code",
   "execution_count": 83,
   "metadata": {},
   "outputs": [
    {
     "name": "stdout",
     "output_type": "stream",
     "text": [
      "Epoch 1\n",
      "Epoch 5001\n",
      "Epoch 10001\n",
      "Epoch 15001\n"
     ]
    },
    {
     "data": {
      "image/png": "[encoded data removed]",
      "text/plain": [
       "<Figure size 432x288 with 1 Axes>"
      ]
     },
     "metadata": {
      "needs_background": "light"
     },
     "output_type": "display_data"
    }
   ],
   "source": [
    "L = train(20000)"
   ]
  },
  {
   "cell_type": "code",
   "execution_count": null,
   "metadata": {},
   "outputs": [],
   "source": []
  }
 ],
 "metadata": {
  "kernelspec": {
   "display_name": "Python 3",
   "language": "python",
   "name": "python3"
  },
  "language_info": {
   "codemirror_mode": {
    "name": "ipython",
    "version": 3
   },
   "file_extension": ".py",
   "mimetype": "text/x-python",
   "name": "python",
   "nbconvert_exporter": "python",
   "pygments_lexer": "ipython3",
   "version": "3.8.3"
  }
 },
 "nbformat": 4,
 "nbformat_minor": 4
}
